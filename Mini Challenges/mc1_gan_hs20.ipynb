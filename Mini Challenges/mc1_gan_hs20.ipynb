{
 "cells": [
  {
   "cell_type": "markdown",
   "metadata": {},
   "source": [
    "# Die Zahl Pi ($\\pi$)\n",
    "\n",
    "Die Zahl $\\pi$ ist eine mathematische Konstante, welche über das Verhältnis aus Umfang zu Durchmesser eines Kreises definiert ist:\n",
    "\n",
    "$$\\pi=\\frac{U}{d}$$\n",
    "\n",
    "$\\pi$ ist eine irrationale Zahl und wir können sie nur Näherungsweise als Dezimalzahl angeben (hier $\\pi$ mit den ersten $500$ Nachkommastellen):\n",
    "\n",
    "$$\\begin{eqnarray*}\n",
    "3.&&1415926535\\;8979323846\\;2643383279\\;5028841971\\;6939937510\\\\\n",
    "&&5820974944\\;5923078164\\;0628620899\\;8628034825\\;3421170679\\\\\n",
    "&&8214808651\\;3282306647\\;0938446095\\;5058223172\\;5359408128\\\\\n",
    "&&4811174502\\;8410270193\\;8521105559\\;6446229489\\;5493038196\\\\\n",
    "&&4428810975\\;6659334461\\;2847564823\\;3786783165\\;2712019091\\\\\n",
    "&&4564856692\\;3460348610\\;4543266482\\;1339360726\\;0249141273\\\\\n",
    "&&7245870066\\;0631558817\\;4881520920\\;9628292540\\;9171536436\\\\\n",
    "&&7892590360\\;0113305305\\;4882046652\\;1384146951\\;9415116094\\\\\n",
    "&&3305727036\\;5759591953\\;0921861173\\;8193261179\\;3105118548\\\\\n",
    "&&0744623799\\;6274956735\\;1885752724\\;8912279381\\;8301194912\\;\\ldots\\end{eqnarray*}$$\n",
    "\n",
    "In dieser Mini-Challenge wollen wir uns mit der Geschichte der Zahl $\\pi$ auseinandersetzen und einige Möglichkeiten anschauen, wie man die Nachkommastellen von $\\pi$ berechnen kann. "
   ]
  },
  {
   "cell_type": "markdown",
   "metadata": {},
   "source": [
    "## 1. Die Geschichte der Zahl $\\pi$\n",
    "\n",
    "Historische Dokumente belegen, dass sich die Menschheit schon sehr lange mit der Zahl $\\pi$ beschäftigt.\n",
    "\n",
    "<b><font color=\"red\">Aufgabe</font></b>: Recherchieren Sie mindestens 5 Quellen, welche einen Bezug zu $\\pi$ aufzeigen und geben Sie diese in chronologischer Reihenfolge an:\n",
    "\n",
    "<table><tr>\n",
    "    <td><b>Zeitpunkt</b></td><td><b>Berechnungsprinzip</b></td><td><b>Näherungswert</b></td><td><b>Genauigkeit</b></td><td><b>Quelle</b></td></tr>\n",
    "    <tr><td></td><td></td><td></td><td></td><td></td></tr>\n",
    "        <tr><td></td><td></td><td></td><td></td><td></td></tr>    <tr><td></td><td></td><td></td><td></td><td></td></tr>    <tr><td></td><td></td><td></td><td></td><td></td></tr>    <tr><td></td><td></td><td></td><td></td><td></td></tr>    <tr><td></td><td></td><td></td><td></td><td></td></tr></table>\n",
    "        "
   ]
  },
  {
   "cell_type": "markdown",
   "metadata": {},
   "source": [
    "## 2. Zwei (klassische) Berechnungsmethoden\n",
    "\n",
    "### Archimedes\n",
    "\n",
    "Der Philosoph, Mathematiker und Physiker Archimedes (287-212 v.Chr.) hat basierend auf der Definition von $\\pi$ die Zahl auf zwei Nachkommastellen angenähert. Dazu hat er einem Einheitskreis ($r=1$) ein Sechseck Um- nd Eingeschrieben. Den Kreisumfang $U=2r\\pi=2\\pi$ konnte er zwar nicht numerisch bestimmen, mit den beiden Sechsecken konnte er aber den Kreisumfang abschätzen:\n",
    "\n",
    "<img src=\"regulaeres_n_eck_in_und_um_einheitskreis.PNG\">\n",
    "\n",
    "<b><font color=\"red\">Aufgabe:</font></b>\n",
    "\n",
    "1. Nähern Sie $\\pi$ gemäss dem Vorgehen von Archimedes an (Achtung: nur mit den Elementen der klassischen Geometrie, d.h. ohne trigonometrische Funktionen!).\n",
    "\n",
    "2. Erweitern Sie das Verfahren, indem Sie die Eckenzahl fortlaufend verdoppeln ($6$, $12$, $24$, $48$, $96$, ...). Wie verbessert sich die Genauigkeit der Näherung bei diesem Vorgehen?"
   ]
  },
  {
   "cell_type": "code",
   "execution_count": null,
   "metadata": {},
   "outputs": [],
   "source": [
    "### Ihr Code:\n",
    "\n",
    "\n"
   ]
  },
  {
   "cell_type": "markdown",
   "metadata": {},
   "source": [
    "### Zufall und $\\pi$ (Monte-Carlo-Methode)\n",
    "\n",
    "Die Zahl $\\pi$ kann auch über das Flächenverhältnis eines Kreises (Radius $r$) zu einem Quadrat (Seitenlänge $s=2r$ - Kreis ist dem Quadrat einbeschrieben) definiert werden:\n",
    "\n",
    "$$\\frac{A_{Kreis}}{A_{Quadrat}}=\\frac{r^2\\cdot \\pi}{\\left(2r\\right)^2}=\\frac{\\pi}{4}$$\n",
    "\n",
    "Um nun eine Näherung für $\\pi$ zu finden, wird mit einem Zufallsgenerator auf eine quadratische Zielscheibe ($-1\\leq x \\leq 1$ und $-1\\leq y \\leq 1$) geschossen ($n$ Schüsse). Befindet sich der Schuss innerhalb des Einheitskreises (Abstand zum Koordinatenursprung kleiner-gleich $1$) so zählen wir den Schuss zu den Treffern. Das Flächenverhältnis lässt sich nun als Verhältnis der Treffer $n_T$ zu den Schüssen $n$ beschreiben:\n",
    "\n",
    "$$\\frac{A_{Kreis}}{A_{Quadrat}}=\\frac{\\pi}{4}=\\frac{n_T}{n}$$\n",
    "\n",
    "<b><font color=\"red\">Aufgabe:</font></b> Implementieren Sie die oben beschriebene Monte-Carlo-Simulation in Python und bestimmen Sie Näherungswerte für $\\pi$ in Abhängigkeit der Anzahl Schüsse $n$ (tabellarische Darstellung). Was kann über den Zusammenhang Genauigkeit und Anzahl Schüsse ausgesagt werden (qualitativ)?"
   ]
  },
  {
   "cell_type": "code",
   "execution_count": null,
   "metadata": {},
   "outputs": [],
   "source": [
    "### Ihr Code:\n",
    "\n",
    "\n"
   ]
  },
  {
   "cell_type": "markdown",
   "metadata": {},
   "source": [
    "## 3. Zahlenreihen und die Zahl $\\pi$\n",
    "\n",
    "Eine sehr schöne Technik um die Zahl $\\pi$ (und auch andere irrationale Zahlen) anzunähern basiert auf unendlichen Summen (Zahlenreihen). Eine der bekanntesten Reihen ist nach dem deutschen Mathematiker Gottfried Wilhelm Leibniz benannt:\n",
    "\n",
    "$$\\sum_{k=0}^{\\infty}{\\frac{\\left(-1\\right)^k}{2k+1}}=1-\\frac{1}{3}+\\frac{1}{5}-\\frac{1}{7}+\\frac{1}{9}-+\\ldots=\\frac{\\pi}{4}$$\n",
    "\n",
    "Der Vorteil einer solchen (konvergenten) unendlichen Summe ist, dass wenn die ersten $n$-Summanden zusammengezählt werden ein Näherungswert mit einer bestimmten Genauigkeit resultiert. Möchte man die Genauigkeit erhöhen, müssen einfach weitere Summanden dazugezählt werden.\n",
    "\n",
    "Der Zusammenhang zwischen Zahlenreihen und bestimmten irrationalen Zahlen basiert auf der Möglichkeit bestimmte Funktionen als unendliche Summe von Potenzfunktionen zu beschreiben (Potenzreihen, Taylorreihen, MacLaurin'sche Reihe). Es gilt z.B. für die $\\arctan$-Funktion (wenn $\\left|x\\right|\\leq 1$ gilt):\n",
    "\n",
    "$$\\arctan\\left(x\\right)=\\sum_{k=0}^{\\infty}{\\left(-1\\right)^k\\frac{x^{2k+1}}{2k+1}}=x-\\frac{x^3}{3}+\\frac{x^5}{5}-\\frac{x^7}{7}+\\frac{x^9}{9}-+\\ldots$$\n",
    "\n",
    "Da der Funktionswert der $\\arctan$-Funktion an der Stelle $x=1$ gleich $\\frac{\\pi}{4}$ ist kann mit der Potenzreihe $\\pi$ berechnet werden (man erhält hier gerade die obige Formel von Leibniz)!\n",
    "\n",
    "<b><font color=\"red\">Aufgabe:</font></b>\n",
    "\n",
    "1. Bestimmen Sie mit der Formel von Leibniz $\\pi$ auf $10$ Stellen genau. Wieviele Summanden sind nötig um diese Genauigkeit zu erhalten?\n",
    "\n",
    "2. Finden Sie weitere, schnellere Summenformeln, mit welchen man die Zahl $\\pi$ annähern kann."
   ]
  },
  {
   "cell_type": "code",
   "execution_count": null,
   "metadata": {},
   "outputs": [],
   "source": [
    "### Ihr Code:\n",
    "\n",
    "\n"
   ]
  }
 ],
 "metadata": {
  "kernelspec": {
   "display_name": "Python 3",
   "language": "python",
   "name": "python3"
  },
  "language_info": {
   "codemirror_mode": {
    "name": "ipython",
    "version": 3
   },
   "file_extension": ".py",
   "mimetype": "text/x-python",
   "name": "python",
   "nbconvert_exporter": "python",
   "pygments_lexer": "ipython3",
   "version": "3.7.4"
  }
 },
 "nbformat": 4,
 "nbformat_minor": 2
}
