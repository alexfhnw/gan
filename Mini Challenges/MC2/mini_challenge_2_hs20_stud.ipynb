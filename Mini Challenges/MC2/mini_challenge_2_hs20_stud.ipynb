{
 "cells": [
  {
   "cell_type": "markdown",
   "metadata": {},
   "source": [
    "# Mini-Challenge LE2: Taylor-Approximation"
   ]
  },
  {
   "cell_type": "markdown",
   "metadata": {},
   "source": [
    "Das Hauptziel dieser Mini-Challenge ist, ein Tool zu implementieren zur Visualisierung der Taylorapproximation. \n",
    "\n",
    "#### Aufgabe I\n",
    "\n",
    "Dazu sind folgende Schritte notwendig:  \n",
    "1. Berechnung des Taylorpolynoms $f_{\\rm appr}(x)$ einer beliebigen Funktion $f(x)$ (genügend oft differenzierbar) mit einer beliebigen Ordnung ($m$) und um einen beliebigen Entwicklungspunkt ($x_0$ im Definitionsbereich) \n",
    "2. Berechnung soll mit Hilfe von <code>sympy</code> durchgeführt werden. Diese wird verwendet um eine als String spezifizierte Formel für $f(x)$ zu parsen und mittels <code>diff</code> die geeigneten Ableitungen auszurechnen. Die Methode <code>series</code> soll hier **nicht** verwendet werden resp. nur allenfalls für die Überprüfung Deiner Implementierung.  \n",
    "3. Visualisierung der Funktion und deren Approximation in Jupyter Notebook: Plotte den Graphen der Funktion (blau) und den Graphen des Approximationspolynoms (rot) und stelle eine Reihe von Widgets zur Verfügung um die Funktion, die Parameter der Approximation ($m, x_0$) und den Plot-Range zu kontrollieren. Hier kann für die Umsetzung der Interaktion die widgets Library <code>ipywidgets</code> verwendet werden (siehe z.B. https://ipywidgets.readthedocs.io/en/latest/examples/Using%20Interact.html - erweitere das ganz unten angegebene Beispiel: https://ipywidgets.readthedocs.io/en/latest/examples/Using%20Interact.html#Flickering-and-jumping-output):\n",
    ">* Funktion: String (Spezifikation der Funktion als String). Hier sind verschiedene Varianten denkbar (parsen als einfacher String oder auch als Latex-Ausdruck). Verwende einen geeigneten Parser von <code>sympy</code> um den String als <code>sympy</code>-Ausdruck einzulesen.\n",
    ">* Ordnung: Integer $m$ (zwischen $0$ und $n_{\\rm max}$).\n",
    ">* Entwicklungspunkt: Float $x_0$ (in geeignetem Range)\n",
    ">* x-Range: Range von Floats (x-Werte), welche geplottet werden soll.\n",
    ">* y-Range: Range von Floats (y-Werte), welche geplottet werden soll.  \n",
    "\n",
    "\n",
    "#### Tests\n",
    "\n",
    "Das Programm soll in der Lage sein, folgende Funktionen behandeln zu können:\n",
    "* <pre>sin(2*pi*x)</pre>\n",
    "* <pre>sin(2*pi*x)*exp(-x**2/2)</pre>\n",
    "* <pre>sin(2*pi*x)/(1+x**2)</pre>\n",
    "\n",
    "\n",
    "\n",
    "#### Aufgabe II\n",
    "\n",
    "Erweitere die oben beschrieben Funktionalität, indem Du den Fehler der Approximation für jeden x-Wert im x-Range (ausgewählt in Aufgabe I) mit Hilfe des Lagrange-Restgliedes abschätzt und den geschätzten Range für den Fehler im Plot aufmalst. \n",
    "\n",
    "Dazu sind folgende Schritte notwendig:\n",
    "\n",
    "1. Berechnung des Ausdrucks für das Lagrange Restglied für die gegebene Funktion $f$, den gegebenen Entwicklungspunkt $x_0$ und Ordnung $m$, ausgewertet bei den Punkten $\\hat{x}$ und $x$, d.h. \n",
    "$$R_{m,x_0}(x,\\hat{x}) = \\frac{f^{(m+1)}(\\hat{x}(x))}{(m+1)!}\\cdot (x-x_0)^{m+1} =: \\rho_{m,x_0}(\\hat{x}(x))\\cdot (x-x_0)^{m+1}$$\n",
    "wobei der genaue Wert von $\\hat{x}$ i.A. unbekannt ist. Bekannt ist einzig, dass der Wert zwischen $x$ und $x_0$ liegt.\n",
    "\n",
    "2. Numerische Bestimmung des Maximums von $\\left|\\rho_{m,x_0}(\\hat{x})\\right|$ bzgl. $\\hat{x}\\in I(x)$ (für ein gegebenes $x$) wobei $I(x)=[x,x_0]$ oder $I(x)=[x_0,x]$, je nach dem ob $x<x_0$ oder $x>x_0$ ist:\n",
    "\n",
    "$$\\rho^{\\rm max}_{m,x_0}(x) = \\underset{\\hat{x}\\in I(x)}{\\rm max}\\left|\\rho_{m,x_0}(\\hat{x})\\right|$$\n",
    "\n",
    "3. Numerische Bestimmung der oberen Schranke für den Fehler für jedes $x$ des in Aufgabe I verwendeten $x$-Range gemäss\n",
    "$$\\epsilon(x) = \\rho^{\\rm max}_{m,x_0}(x)\\cdot |x-x_0|^{m+1}$$\n",
    " \n",
    "4. Plotten des Fehler im Plot der Funktion und der Approximation, indem Du den Graphen der Funktionen $f_{\\rm appr}(x)+\\epsilon(x)$ und $f_{\\rm appr}(x)-\\epsilon(x)$ dazuplottest (grün, getrichelt).\n",
    "\n",
    "\n",
    "#### Tests\n",
    "\n",
    "Teste das Programm wiedeum mit den in I angegebenen Testfunktionen. Die Funktionen sollte dann zwischen den durch $f_{\\rm appr}(x)-\\epsilon(x)\\pm \\epsilon(x)$ angegebenen, jeweiligen Schranken.   \n",
    "\n"
   ]
  },
  {
   "cell_type": "markdown",
   "metadata": {},
   "source": [
    "### Lösung\n"
   ]
  },
  {
   "cell_type": "code",
   "execution_count": 1,
   "metadata": {},
   "outputs": [
    {
     "data": {
      "application/vnd.jupyter.widget-view+json": {
       "model_id": "ed4b602801174de087405711f376c319",
       "version_major": 2,
       "version_minor": 0
      },
      "text/plain": [
       "interactive(children=(Text(value='sin(2*pi*x)*exp(-x**2/2)', description='fstr'), IntSlider(value=3, descripti…"
      ]
     },
     "metadata": {},
     "output_type": "display_data"
    }
   ],
   "source": [
    "%matplotlib inline\n",
    "import sympy as sym\n",
    "from sympy.parsing.sympy_parser import parse_expr\n",
    "\n",
    "import numpy as np\n",
    "\n",
    "import ipywidgets\n",
    "from ipywidgets import interactive\n",
    "import matplotlib.pyplot as plt\n",
    "\n",
    "# YOUR CODE\n",
    "\n",
    "# YOUR CODE"
   ]
  },
  {
   "cell_type": "code",
   "execution_count": null,
   "metadata": {},
   "outputs": [],
   "source": []
  },
  {
   "cell_type": "code",
   "execution_count": null,
   "metadata": {},
   "outputs": [],
   "source": []
  }
 ],
 "metadata": {
  "kernelspec": {
   "display_name": "Python 3",
   "language": "python",
   "name": "python3"
  },
  "language_info": {
   "codemirror_mode": {
    "name": "ipython",
    "version": 3
   },
   "file_extension": ".py",
   "mimetype": "text/x-python",
   "name": "python",
   "nbconvert_exporter": "python",
   "pygments_lexer": "ipython3",
   "version": "3.8.3"
  }
 },
 "nbformat": 4,
 "nbformat_minor": 4
}
