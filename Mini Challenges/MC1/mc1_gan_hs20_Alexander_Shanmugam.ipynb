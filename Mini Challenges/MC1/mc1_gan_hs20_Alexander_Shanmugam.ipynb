{
 "cells": [
  {
   "cell_type": "markdown",
   "metadata": {},
   "source": [
    "# Die Zahl Pi ($\\pi$)\n",
    "\n",
    "Die Zahl $\\pi$ ist eine mathematische Konstante, welche über das Verhältnis aus Umfang zu Durchmesser eines Kreises definiert ist:\n",
    "\n",
    "$$\\pi=\\frac{U}{d}$$\n",
    "\n",
    "$\\pi$ ist eine irrationale Zahl und wir können sie nur Näherungsweise als Dezimalzahl angeben (hier $\\pi$ mit den ersten $500$ Nachkommastellen):\n",
    "\n",
    "$$\\begin{eqnarray*}\n",
    "3.&&1415926535\\;8979323846\\;2643383279\\;5028841971\\;6939937510\\\\\n",
    "&&5820974944\\;5923078164\\;0628620899\\;8628034825\\;3421170679\\\\\n",
    "&&8214808651\\;3282306647\\;0938446095\\;5058223172\\;5359408128\\\\\n",
    "&&4811174502\\;8410270193\\;8521105559\\;6446229489\\;5493038196\\\\\n",
    "&&4428810975\\;6659334461\\;2847564823\\;3786783165\\;2712019091\\\\\n",
    "&&4564856692\\;3460348610\\;4543266482\\;1339360726\\;0249141273\\\\\n",
    "&&7245870066\\;0631558817\\;4881520920\\;9628292540\\;9171536436\\\\\n",
    "&&7892590360\\;0113305305\\;4882046652\\;1384146951\\;9415116094\\\\\n",
    "&&3305727036\\;5759591953\\;0921861173\\;8193261179\\;3105118548\\\\\n",
    "&&0744623799\\;6274956735\\;1885752724\\;8912279381\\;8301194912\\;\\ldots\\end{eqnarray*}$$\n",
    "\n",
    "In dieser Mini-Challenge wollen wir uns mit der Geschichte der Zahl $\\pi$ auseinandersetzen und einige Möglichkeiten anschauen, wie man die Nachkommastellen von $\\pi$ berechnen kann. "
   ]
  },
  {
   "cell_type": "markdown",
   "metadata": {},
   "source": [
    "## 1. Die Geschichte der Zahl $\\pi$\n",
    "\n",
    "Historische Dokumente belegen, dass sich die Menschheit schon sehr lange mit der Zahl $\\pi$ beschäftigt.\n",
    "\n",
    "<b><font color=\"red\">Aufgabe</font></b>: Recherchieren Sie mindestens 5 Quellen, welche einen Bezug zu $\\pi$ aufzeigen und geben Sie diese in chronologischer Reihenfolge an:\n",
    "\n",
    "<table><tr>\n",
    "    <td><b>Zeitpunkt</b></td><td><b>Berechnungsprinzip</b></td><td><b>Näherungswert</b></td><td><b>Genauigkeit</b></td><td><b>Quelle</b></td></tr> <tr><td>2000 ? v. Chr</td><td>4 * (8/9)^2</td><td>3.1605</td><td>auf 1 Stelle genau</td><td>https://en.wikipedia.org/wiki/Chronology_of_computation_of_π</td></tr>  <tr><td></td><td></td><td></td><td></td><td></td></tr> <tr><td>~ 287 - 212 v. Chr</td><td>Algorithmus des Archimedes</td><td>3+10/71&lt;pi&lt;3+10/70</td><td>zwei Nachkommastellen</td><td>https://de.m.wikipedia.org/wiki/Auslöschung_(numerische_Mathematik)#Beispiel:_Algorithmus_des_Archimedes_zur_Kreiszahlberechnung</td>  <tr><td>150</td><td>377/120</td><td>3.141666...</td><td>3 Stellen genau</td><td>https://en.wikipedia.org/wiki/Chronology_of_computation_of_π</td></tr>    </tr>\n",
    "        <tr><td>1665</td><td>eine Reihe der inversen Sinusfunktion</td><td>pi auf 15 Stellen genau</td><td>auf 15 Stellen genau</td><td>https://matheguru.com/allgemein/die-kreiszahl-pi.html</td></tr>    <tr><td>1706</td><td>vereinfachte Leibniz-Reihe</td><td>pi auf 100 Nachkommastellen genau</td><td>auf 100 Nachkommastellen genau</td><td>https://matheguru.com/allgemein/die-kreiszahl-pi.html</td></tr>    </table>\n",
    "        "
   ]
  },
  {
   "cell_type": "markdown",
   "metadata": {},
   "source": [
    "## 2. Zwei (klassische) Berechnungsmethoden\n",
    "\n",
    "### Archimedes\n",
    "\n",
    "Der Philosoph, Mathematiker und Physiker Archimedes (287-212 v.Chr.) hat basierend auf der Definition von $\\pi$ die Zahl auf zwei Nachkommastellen angenähert. Dazu hat er einem Einheitskreis ($r=1$) ein Sechseck Um- nd Eingeschrieben. Den Kreisumfang $U=2r\\pi=2\\pi$ konnte er zwar nicht numerisch bestimmen, mit den beiden Sechsecken konnte er aber den Kreisumfang abschätzen:\n",
    "\n",
    "<img src=\"regulaeres_n_eck_in_und_um_einheitskreis.PNG\">\n",
    "\n",
    "<b><font color=\"red\">Aufgabe:</font></b>\n",
    "\n",
    "1. Nähern Sie $\\pi$ gemäss dem Vorgehen von Archimedes an (Achtung: nur mit den Elementen der klassischen Geometrie, d.h. ohne trigonometrische Funktionen!).\n",
    "\n",
    "2. Erweitern Sie das Verfahren, indem Sie die Eckenzahl fortlaufend verdoppeln ($6$, $12$, $24$, $48$, $96$, ...). Wie verbessert sich die Genauigkeit der Näherung bei diesem Vorgehen?"
   ]
  },
  {
   "cell_type": "code",
   "execution_count": 91,
   "metadata": {},
   "outputs": [
    {
     "name": "stdout",
     "output_type": "stream",
     "text": [
      "n: \t\t innere Approximation: \t\t Äussere Approximation: \n",
      "\n",
      "6 \t\t 3.0 \t\t\t\t 3.4641016151377553\n",
      "12 \t\t 3.105828541230249 \t\t 3.2153903091734723\n",
      "24 \t\t 3.1326286132812378 \t\t 3.1596599420975\n",
      "48 \t\t 3.1393502030468663 \t\t 3.146086215131434\n",
      "96 \t\t 3.1410319508905093 \t\t 3.142714599645368\n",
      "192 \t\t 3.1414524722854615 \t\t 3.1418730499798233\n",
      "384 \t\t 3.1415576079118575 \t\t 3.141662747056848\n",
      "768 \t\t 3.1415838921483177 \t\t 3.141610176604689\n",
      "1536 \t\t 3.1415904632280496 \t\t 3.1415970343215256\n",
      "3072 \t\t 3.1415921059992713 \t\t 3.141593748771352\n",
      "6144 \t\t 3.1415925166921568 \t\t 3.141592927385097\n",
      "12288 \t\t 3.141592619365383 \t\t 3.141592722038613\n",
      "24576 \t\t 3.1415926450336897 \t\t 3.1415926707019963\n",
      "49152 \t\t 3.1415926514507664 \t\t 3.1415926578678435\n",
      "98304 \t\t 3.141592653055036 \t\t 3.1415926546593056\n",
      "196608 \t\t 3.141592653456103 \t\t 3.1415926538571712\n",
      "393216 \t\t 3.1415926535563696 \t\t 3.1415926536566365\n",
      "786432 \t\t 3.1415926535814362 \t\t 3.1415926536065033\n",
      "1572864 \t 3.1415926535877032 \t\t 3.1415926535939693\n",
      "3145728 \t 3.14159265358927 \t\t 3.1415926535908367\n",
      "6291456 \t 3.1415926535896617 \t\t 3.1415926535900534\n",
      "12582912 \t 3.1415926535897594 \t\t 3.1415926535898575\n",
      "25165824 \t 3.1415926535897842 \t\t 3.141592653589809\n",
      "50331648 \t 3.141592653589791 \t\t 3.1415926535897967\n",
      "100663296 \t 3.141592653589793 \t\t 3.141592653589795\n",
      "201326592 \t 3.141592653589793 \t\t 3.1415926535897936\n",
      "402653184 \t 3.141592653589793 \t\t 3.141592653589793\n",
      "805306368 \t 3.141592653589793 \t\t 3.141592653589793\n",
      "1610612736 \t 3.141592653589793 \t\t 3.141592653589793\n",
      "3221225472 \t 3.141592653589793 \t\t 3.141592653589793\n"
     ]
    }
   ],
   "source": [
    "### Ihr Code:\n",
    "def approximate_pi(x):\n",
    "    result = [[0]*3 for i in range(x)]\n",
    "    sn = 1                                                         # initiale Seitenlänge\n",
    "    for i in range(x):\n",
    "        n = 6*2**i                                                 # Anzahl Ecken\n",
    "        if i+1 == 1:                                               # Berechnung 6-Eck\n",
    "            r1 = n * sn / 2                                        # innere Approximation\n",
    "            r2 = (n*(2*(sn / (0.75**(1/2)*2))))/2                  # äussere Approximation\n",
    "            result[i] = [n,r1, r2]\n",
    "        else:                                                      # Berechnung n-Eck\n",
    "            # sn = (2-((4-sn**2)**(1/2)))**(1/2) --> Auslöschung\n",
    "            sn = (((sn**2)/2)*(1/(1+(1-(sn**2/4))**(1/2))))**(1/2) # innere Seitenlänge\n",
    "            r1 = (n*sn)/2                                          # innere Approximation\n",
    "            Sn = 2*sn/(4-sn**2)**(1/2)                             # äussere Seitenlänge\n",
    "            r2 = (n*Sn)/2                                          # äussere Approximation\n",
    "            result[i] = [n,r1, r2]\n",
    "    return result\n",
    "\n",
    "result = approximate_pi(30)\n",
    "print('n:', '\\t\\t innere Approximation:', '\\t\\t Äussere Approximation:', '\\n')\n",
    "for i in result:\n",
    "    if len(str(i[0])) == 1:\n",
    "        print(i[0], '\\t\\t', i[1], '\\t\\t\\t\\t', i[2])\n",
    "    elif len(str(i[0])) <= 6:\n",
    "        print(i[0], '\\t\\t', i[1], '\\t\\t', i[2])\n",
    "    else:\n",
    "        print(i[0], '\\t', i[1], '\\t\\t', i[2])"
   ]
  },
  {
   "cell_type": "markdown",
   "metadata": {},
   "source": [
    "Bis zum 402653184-Eck verbessert sich die Genauigkeit der Näherung stetig, danach wird es nicht mehr genauer. Ich gehe davon aus, dass ab diesem Zeitpunkt aufgrund einer Limitierung im Datentyp keine genauere Berechnung mehr durchführen lässt."
   ]
  },
  {
   "cell_type": "markdown",
   "metadata": {},
   "source": [
    "### Zufall und $\\pi$ (Monte-Carlo-Methode)\n",
    "\n",
    "Die Zahl $\\pi$ kann auch über das Flächenverhältnis eines Kreises (Radius $r$) zu einem Quadrat (Seitenlänge $s=2r$ - Kreis ist dem Quadrat einbeschrieben) definiert werden:\n",
    "\n",
    "$$\\frac{A_{Kreis}}{A_{Quadrat}}=\\frac{r^2\\cdot \\pi}{\\left(2r\\right)^2}=\\frac{\\pi}{4}$$\n",
    "\n",
    "Um nun eine Näherung für $\\pi$ zu finden, wird mit einem Zufallsgenerator auf eine quadratische Zielscheibe ($-1\\leq x \\leq 1$ und $-1\\leq y \\leq 1$) geschossen ($n$ Schüsse). Befindet sich der Schuss innerhalb des Einheitskreises (Abstand zum Koordinatenursprung kleiner-gleich $1$) so zählen wir den Schuss zu den Treffern. Das Flächenverhältnis lässt sich nun als Verhältnis der Treffer $n_T$ zu den Schüssen $n$ beschreiben:\n",
    "\n",
    "$$\\frac{A_{Kreis}}{A_{Quadrat}}=\\frac{\\pi}{4}=\\frac{n_T}{n}$$\n",
    "\n",
    "<b><font color=\"red\">Aufgabe:</font></b> Implementieren Sie die oben beschriebene Monte-Carlo-Simulation in Python und bestimmen Sie Näherungswerte für $\\pi$ in Abhängigkeit der Anzahl Schüsse $n$ (tabellarische Darstellung). Was kann über den Zusammenhang Genauigkeit und Anzahl Schüsse ausgesagt werden (qualitativ)?"
   ]
  },
  {
   "cell_type": "code",
   "execution_count": 90,
   "metadata": {},
   "outputs": [
    {
     "name": "stdout",
     "output_type": "stream",
     "text": [
      "n Schüsse: \t Approximation: \n",
      "\n",
      "10 \t\t 3.6\n",
      "50 \t\t 2.72\n",
      "99 \t\t 3.0303030303030303\n",
      "100 \t\t 3.0\n",
      "500 \t\t 3.12\n",
      "999 \t\t 3.1871871871871873\n",
      "1000 \t\t 3.108\n",
      "5000 \t\t 3.1184\n",
      "9999 \t\t 3.1603160316031604\n",
      "10000 \t\t 3.1372\n",
      "50000 \t\t 3.14352\n",
      "99999 \t\t 3.142111421114211\n",
      "100000 \t\t 3.14596\n",
      "500000 \t\t 3.146968\n",
      "999999 \t\t 3.1414991414991413\n",
      "1000000 \t 3.140776\n",
      "5000000 \t 3.1422864\n",
      "9999999 \t 3.1416431141643115\n"
     ]
    }
   ],
   "source": [
    "### Ihr Code:\n",
    "import random\n",
    "results = [[0]*18, [0]*18]\n",
    "shots = [10,50,99,100,500,999,1000,5000,9999,10000,50000,99999,100000,500000,999999,1000000,5000000,9999999]\n",
    "\n",
    "def approx_pi_with_shot(arg):\n",
    "    sum_in = 0                              # Anzahl Schüsse im Kreis\n",
    "    for i in range(arg):\n",
    "        x = random.uniform(-1,1)            # random x-Koordinate\n",
    "        y = random.uniform(-1,1)            # random y-Koordinate\n",
    "        a = (x**2+y**2)**(1/2)              # Abstand zum Kreismittelpunkt berechnen\n",
    "        if a <= 1:                          # Schuss innerhalb des Kreises\n",
    "            sum_in += 1\n",
    "    return ((sum_in/arg)*4)\n",
    "\n",
    "print('n Schüsse:', '\\t Approximation:', '\\n')\n",
    "for i in range(len(shots)):\n",
    "    if len(str(shots[i])) <=6:\n",
    "        print(shots[i], '\\t\\t', approx_pi_with_shot(shots[i]))\n",
    "    else:\n",
    "        print(shots[i], '\\t', approx_pi_with_shot(shots[i]))"
   ]
  },
  {
   "cell_type": "markdown",
   "metadata": {},
   "source": [
    "Grundsätzlich erkennt man hierbei, dass eine höhere Anzahl von Schüssen die Genauigkeit von der Approximation erhöht. Allerdings kann durch Zufall eine Approximation mit weniger Schüssen durchaus auch genauer sein als eine mit einer höheren Anzahl Schüssen."
   ]
  },
  {
   "cell_type": "markdown",
   "metadata": {},
   "source": [
    "## 3. Zahlenreihen und die Zahl $\\pi$\n",
    "\n",
    "Eine sehr schöne Technik um die Zahl $\\pi$ (und auch andere irrationale Zahlen) anzunähern basiert auf unendlichen Summen (Zahlenreihen). Eine der bekanntesten Reihen ist nach dem deutschen Mathematiker Gottfried Wilhelm Leibniz benannt:\n",
    "\n",
    "$$\\sum_{k=0}^{\\infty}{\\frac{\\left(-1\\right)^k}{2k+1}}=1-\\frac{1}{3}+\\frac{1}{5}-\\frac{1}{7}+\\frac{1}{9}-+\\ldots=\\frac{\\pi}{4}$$\n",
    "\n",
    "Der Vorteil einer solchen (konvergenten) unendlichen Summe ist, dass wenn die ersten $n$-Summanden zusammengezählt werden ein Näherungswert mit einer bestimmten Genauigkeit resultiert. Möchte man die Genauigkeit erhöhen, müssen einfach weitere Summanden dazugezählt werden.\n",
    "\n",
    "Der Zusammenhang zwischen Zahlenreihen und bestimmten irrationalen Zahlen basiert auf der Möglichkeit bestimmte Funktionen als unendliche Summe von Potenzfunktionen zu beschreiben (Potenzreihen, Taylorreihen, MacLaurin'sche Reihe). Es gilt z.B. für die $\\arctan$-Funktion (wenn $\\left|x\\right|\\leq 1$ gilt):\n",
    "\n",
    "$$\\arctan\\left(x\\right)=\\sum_{k=0}^{\\infty}{\\left(-1\\right)^k\\frac{x^{2k+1}}{2k+1}}=x-\\frac{x^3}{3}+\\frac{x^5}{5}-\\frac{x^7}{7}+\\frac{x^9}{9}-+\\ldots$$\n",
    "\n",
    "Da der Funktionswert der $\\arctan$-Funktion an der Stelle $x=1$ gleich $\\frac{\\pi}{4}$ ist kann mit der Potenzreihe $\\pi$ berechnet werden (man erhält hier gerade die obige Formel von Leibniz)!\n",
    "\n",
    "<b><font color=\"red\">Aufgabe:</font></b>\n",
    "\n",
    "1. Bestimmen Sie mit der Formel von Leibniz $\\pi$ auf $10$ Stellen genau. Wieviele Summanden sind nötig um diese Genauigkeit zu erhalten?\n",
    "\n",
    "2. Finden Sie weitere, schnellere Summenformeln, mit welchen man die Zahl $\\pi$ annähern kann."
   ]
  },
  {
   "cell_type": "code",
   "execution_count": 2,
   "metadata": {},
   "outputs": [
    {
     "data": {
      "text/plain": [
       "3.1415926545880506"
      ]
     },
     "execution_count": 2,
     "metadata": {},
     "output_type": "execute_result"
    }
   ],
   "source": [
    "### Ihr Code:\n",
    "def approx_pi_series(x):\n",
    "    result = 0\n",
    "    for i in range(x):\n",
    "        result = result + (-1)**i/(2*i+1)\n",
    "    return(result*4)\n",
    "approx_pi_series(999999999)\n"
   ]
  },
  {
   "cell_type": "markdown",
   "metadata": {},
   "source": [
    "Die Zahl im Funktionsaufruf 'approx_pi_series()' kann beliebig erweitert werden. Mit der mir vorhandenen Rechenleistung konnte ich innert nützlicher Frist pi nur auf 8 Stellen genau berechnen"
   ]
  }
 ],
 "metadata": {
  "kernelspec": {
   "display_name": "Python 3 (ipykernel)",
   "language": "python",
   "name": "python3"
  },
  "language_info": {
   "codemirror_mode": {
    "name": "ipython",
    "version": 3
   },
   "file_extension": ".py",
   "mimetype": "text/x-python",
   "name": "python",
   "nbconvert_exporter": "python",
   "pygments_lexer": "ipython3",
   "version": "3.9.5"
  }
 },
 "nbformat": 4,
 "nbformat_minor": 2
}
