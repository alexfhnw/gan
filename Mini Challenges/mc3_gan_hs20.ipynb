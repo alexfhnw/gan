{
 "cells": [
  {
   "cell_type": "markdown",
   "metadata": {},
   "source": [
    "# Erwartungs- und Mittelwert\n",
    "\n",
    "Erwartungs- und Mittelwert sind im DataScience wichtige und zentrale Grössen. Diese Mini-Challenge versucht einerseits die verschiedenen Begriffe zu klären (Aufgabe 1) und an einem Beispiel soll numerisch ein etwas spezieller Mittelwert berechnet werden (Aufgabe 2)."
   ]
  },
  {
   "cell_type": "markdown",
   "metadata": {},
   "source": [
    "## 1. Begriffe\n",
    "\n",
    "* Was versteht man unter dem Erwartungswert, was versteht man unter dem Mittelwert, was ist der Unterschied?\n",
    "* Wie berechnet man den Erwartungswert einer diskreten bzw. einer stetigen Zufallsgrösse?\n",
    "* Welche Arten von Mittelwerten gibt es? Was sind Anwendungsgebiete für diese verschiedenen Mittelwerte?\n",
    "* Wie berechnet man den linearen Mittelwert einer reellwertigen Funktion $y=f\\left(x\\right)$ in einem vorgegebenen Intervall $\\left[a,b\\right]$?"
   ]
  },
  {
   "cell_type": "markdown",
   "metadata": {},
   "source": [
    "## 2. Der Mittelpunkt von Windisch\n",
    "\n",
    "Eine Möglichkeit den Mittelpunkt einer Figur (oder von sonstigen Daten) anzugeben ist mittels des Schwerpunktes. Wir wollen dies im Falle der Gemeinde Windisch numerisch bestimmen.\n",
    "\n",
    "Sei eine ebene Figur oben durch die Kurve $k_1:\\,y=y_o\\left(x\\right)$ und nach unten durch die Kurve $k_2:\\,y=y_u\\left(x\\right)$ begrenzt, so ergibt sich der Schwerpunkt des Flächenstücks im Bereich $x\\in\\left[x_u,x_o\\right]$ durch folgende Formel (Drehmomente bezüglich jeder Geraden / Achse durch Schwerpunkt heben sich auf):\n",
    "\n",
    "$$\\begin{eqnarray*}x_S&=&\\frac{\\int_{x=x_u}^{x_o}{x\\left(y_o\\left(x\\right)-y_u\\left(x\\right)\\right)\\,dx}}{\\int_{x=x_u}^{x_o}{y_o\\left(x\\right)-y_u\\left(x\\right)\\,dx}}\\\\y_S&=&\\frac{\\frac{1}{2}\\int_{x=x_u}^{x_o}{y_o^2\\left(x\\right)-y_u^2\\left(x\\right)\\,dx}}{\\int_{x=x_u}^{x_o}{y_o\\left(x\\right)-y_u\\left(x\\right)\\,dx}}\\end{eqnarray*}$$\n",
    "\n",
    "Bestimmen Sie näherungsweise den Schwerpunkt / Mittelpunkt von Windisch (Es gibt verschiedene Möglichkeiten die Aufgabe zu lösen! Wenn man mit der obigen Formel arbeiten möchte, muss man zuerst eine Funktion approximieren. Zudem ist die Begrenzung nicht konvex, wie müsste man dies berücksichtigen?):\n",
    "\n",
    "<img src=\"windisch.jpg\">"
   ]
  },
  {
   "cell_type": "code",
   "execution_count": null,
   "metadata": {},
   "outputs": [],
   "source": []
  }
 ],
 "metadata": {
  "kernelspec": {
   "display_name": "Python 3",
   "language": "python",
   "name": "python3"
  },
  "language_info": {
   "codemirror_mode": {
    "name": "ipython",
    "version": 3
   },
   "file_extension": ".py",
   "mimetype": "text/x-python",
   "name": "python",
   "nbconvert_exporter": "python",
   "pygments_lexer": "ipython3",
   "version": "3.7.4"
  }
 },
 "nbformat": 4,
 "nbformat_minor": 2
}
