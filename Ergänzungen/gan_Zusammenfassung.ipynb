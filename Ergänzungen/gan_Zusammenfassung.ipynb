{
 "cells": [
  {
   "cell_type": "markdown",
   "metadata": {},
   "source": [
    "# gan Python Zusammenfassung\n",
    "In diesem Notebook möchte ich die wichtigsten Informationen und Funktionen von Python für das Lösen von gan Aufgaben festhalten."
   ]
  },
  {
   "cell_type": "code",
   "execution_count": null,
   "metadata": {},
   "outputs": [],
   "source": [
    "# Zusammenfassung der Zusammenfassung:\n",
    "\n"
   ]
  },
  {
   "cell_type": "markdown",
   "metadata": {},
   "source": [
    "## Numpy\n",
    "\n",
    "Du kennst die für die Anwendung wichtigsten Datenstrukturen (numpy-Arrays) und weisst, wie du diese mit Hilfe der numpy-Bibliothek manipulieren und verarbeiten kannst. "
   ]
  },
  {
   "cell_type": "code",
   "execution_count": null,
   "metadata": {},
   "outputs": [],
   "source": [
    "import numpy as np"
   ]
  },
  {
   "cell_type": "markdown",
   "metadata": {},
   "source": [
    "## matplotlib\n",
    "Funktionen können in **sympy** als Terme (mit einer oder mehreren unabhängigen Variablen) definiert werden (Scheinfunktion). \n",
    "\n",
    "**Bemerkung**: Natürlich können wir in Python auch \"richtige\" Funktionen definieren. Mit diesen Funktionen können wir dann zwar korrekt Funktionswerte berechnen aber im mathematischen Kontext (Verschachtelung von Funktionen, Ableitungen von Funktionen, ...) sind diese (Python-)Funktionen nicht brauchbar!\n",
    "\n",
    "Um Funktionswerte einer solchen (Schein-)Funktion zu berechnen gibt es den Befehl **subs**.\n",
    "\n",
    "Funktionsgraphen können mit den Befehlen der Unterbibliothek **sympy.plotting** erzeugt werden:\n",
    "\n",
    "* **plot** => Graph einer reellwertigen Funktion mit einer Unabhängigen in kartesischen Koordinaten\n",
    "\n",
    "* **plot3d** => Graph einer reellwertigen Funktion mit zwei Unabhängigen in kartesischen Koordinaten\n",
    "\n",
    "* **plot_parametric** => Graph eine parametrisierten Kurve\n",
    "\n",
    "* usw.\n",
    "\n",
    "Die Befehle der **matplotlib** Bibliothek sind deutlich mächtiger als die Befehle der **sympy.plotting** Bibliothek. Daher ist es oft sinnvoll eine Wertetabelle zu einer Funktion zu erzeugen und mit den Befehlen aus der Bibliothek **matplotlib** die Grafiken zu zeichnen! \n",
    "Ausserdem weisst du, wie du matplotlib für die Visualisierung von Folgen und Funktionen anwenden kannst. "
   ]
  },
  {
   "cell_type": "code",
   "execution_count": null,
   "metadata": {},
   "outputs": [],
   "source": [
    "from sympy.plotting import plot, plot_parametric, plot3d\n",
    "t = sym.symbols('t')\n",
    "f_t = t**2-2*t-8\n",
    "f_5 = f_t.subs({t:5})\n",
    "print(f_5)\n",
    "plot(f_t)\n",
    "\n",
    "null = sym.solve(f_t)\n",
    "print(null)\n",
    "plot(f_t,(t,min(null),max(null)))\n",
    "\n",
    "g_t = sym.sin(2*t)-8\n",
    "plot(f_t,g_t,(t,0,sym.pi))\n",
    "\n",
    "x_t = 1+3*sym.cos(t)\n",
    "y_t = 2+sym.sin(t)\n",
    "plot_parametric(x_t,y_t,(t,0,2*sym.pi))\n",
    "\n",
    "u,v = sym.symbols('u v')\n",
    "w_uv = u**3-3*u*v**2\n",
    "plot3d(w_uv)\n",
    "\n",
    "# Wertetabelle und Verwendung von matplotlib\n",
    "import numpy as np\n",
    "\n",
    "xx = np.arange(-5,5.1,0.1)\n",
    "#print(xx)\n",
    "\n",
    "f_x = sym.exp(-x**2)\n",
    "yy = [f_x.evalf(subs={x:xk}) for xk in xx]\n",
    "#print(yy)\n",
    "\n",
    "import matplotlib.pyplot as plt\n",
    "plt.plot(xx,yy,'r*')\n",
    "plt.show()"
   ]
  },
  {
   "cell_type": "markdown",
   "metadata": {},
   "source": [
    "## sympy\n"
   ]
  },
  {
   "cell_type": "code",
   "execution_count": null,
   "metadata": {},
   "outputs": [],
   "source": [
    "# Symbolische Variablen definieren\n",
    "from sympy import symbols\n",
    "x = symbols('x')                # eine neue sym. Var.\n",
    "y,z = symbols('y,z')            # mehrere sym. Var. definieren\n",
    "\n",
    "# Mit symbolischen Variablen können math. Terme erzeugt werden!\n",
    "term = x/(y**2+z**2)\n",
    "print(term)\n",
    "\n",
    "\n",
    "# Vordefinierte symbolische Variablen\n",
    "from sympy.abc import a, b\n",
    "term = a+b\n",
    "print(term)\n",
    "\n",
    "\n",
    "# Variablen mit Indizes\n",
    "k = symbols('k:4')\n",
    "print(k)\n",
    "print(k[0])\n",
    "k_0, k_1, k_2, k_3 = k\n",
    "print(k_1)"
   ]
  },
  {
   "cell_type": "markdown",
   "metadata": {},
   "source": [
    "### Termumformungen\n",
    "\n",
    "Die Umformung von **Termen** ist eine zentrale (und recht schwierige) Aufgabe in der Mathematik. In **sympy** gibt es viele verschiedene Befehle, welche sich mit Umformungen beschäftigen. Dabei ist der Befehl **simplify** das Universalwerkzeug um Terme zu vereinfachen. \n",
    "\n",
    "Mathematische Terme können sehr unterschiedlich aufgebaut sein und oft brauchen wir eine ganz bestimmte Termumformung (Faktorisieren, Ausmultiplizieren, ...) und daher gibt es neben dem **simplify**-Befehl noch viele weitere Befehle für diese spezifischen Umformungen:\n",
    "\n",
    "* **factor** => Faktorisieren von Termen\n",
    "* **expand** => Ausmultiplizieren von Termen\n",
    "* **cancel** => Als einen gekürzten Bruch darstellen\n",
    "* **apart**  => Partialbruchzerlegung\n",
    "* usw."
   ]
  },
  {
   "cell_type": "code",
   "execution_count": null,
   "metadata": {},
   "outputs": [],
   "source": [
    "import sympy as sym\n",
    "term1 = sym.sin(x)**2+sym.cos(x)**2\n",
    "print(term1)\n",
    "term2 = sym.simplify(term1)\n",
    "print(term2)\n",
    "\n",
    "\n",
    "bruch1 = (x**3-2*x**2+x)/(x**2-x)\n",
    "print(bruch1)\n",
    "bruch2 = sym.simplify(bruch1)\n",
    "print(bruch2)\n",
    "\n",
    "\n",
    "# expand\n",
    "prod1 = (x-1)**3*(x+2)**4\n",
    "print(prod1)\n",
    "prod2 = sym.expand(prod1)\n",
    "print(prod2)\n",
    "\n",
    "# factor\n",
    "prod3 = sym.factor(prod2)\n",
    "print(prod3)\n",
    "\n",
    "# apart\n",
    "zaehler = sym.expand((x-1)**2*(x+3)**4)\n",
    "nenner = sym.expand(x*(x+2)*(x-3)**3)\n",
    "bruch = zaehler/nenner\n",
    "print(bruch)\n",
    "pbz = sym.apart(bruch)\n",
    "print(pbz)\n",
    "\n",
    "# cancel\n",
    "bruch_neu = sym.cancel(pbz)\n",
    "print(bruch_neu)\n",
    "\n",
    "# trigsimp\n",
    "term = 2*sym.sin(x)*sym.cos(x)\n",
    "print(term)\n",
    "term_neu = sym.trigsimp(term)\n",
    "print(term_neu)\n",
    "\n",
    "# expand_trig\n",
    "term_expand = sym.expand_trig(term_neu)\n",
    "print(term_expand)\n",
    "\n",
    "# Weitere Befehle:\n",
    "\n",
    "# powsimp\n",
    "# expand_power_exp\n",
    "# expand_power_base\n",
    "# expand_log\n",
    "# logcombine\n",
    "# ..."
   ]
  },
  {
   "cell_type": "markdown",
   "metadata": {},
   "source": [
    "Schliesslich kannst du mit Hilfe der sympy-Bibliothek \n",
    "Für die höhere Mathematik kennt **sympy** natürlich ebenfalls entsprechende Werkzeuge. Hier einige wichtige Befehle:\n",
    "\n",
    "* **limit** => Grenzwert einer Folge / Funktion\n",
    "\n",
    "* **diff** => Ableitung von Funktionen\n",
    "\n",
    "* **integrate** => Bestimmtes und unbestimmtes Integral einer Funktion\n",
    "\n",
    "* **series** => Entwicklung einer Funktion in eine Taylorreihe\n",
    "\n",
    "* usw.\n",
    "### Grenzwerte"
   ]
  },
  {
   "cell_type": "code",
   "execution_count": null,
   "metadata": {},
   "outputs": [],
   "source": [
    "# Grenzwerte\n",
    "from sympy import oo, limit\n",
    "n = sym.symbols('n')\n",
    "f_n = n/(n+1)\n",
    "lim = limit(f_n,n,oo)\n",
    "print(lim)"
   ]
  },
  {
   "cell_type": "markdown",
   "metadata": {},
   "source": [
    "### Ableitungen \n"
   ]
  },
  {
   "cell_type": "code",
   "execution_count": null,
   "metadata": {},
   "outputs": [],
   "source": [
    "# Ableitungen\n",
    "fx = x/(x+1)\n",
    "print(fx)\n",
    "d_fx_dx = sym.diff(fx,x)\n",
    "print(d_fx_dx)\n",
    "d2_fx_dx2 = sym.diff(fx,x,2)\n",
    "print(d2_fx_dx2)\n"
   ]
  },
  {
   "cell_type": "markdown",
   "metadata": {},
   "source": [
    "### Integrale \n",
    "\n"
   ]
  },
  {
   "cell_type": "code",
   "execution_count": null,
   "metadata": {},
   "outputs": [],
   "source": [
    "# Integrieren\n",
    "fx = x/(x+1)\n",
    "print(fx)\n",
    "Fx = sym.integrate(fx,x)\n",
    "print(Fx)\n",
    "A = sym.integrate(fx,(x,0,1))\n",
    "print(A)\n",
    "\n",
    "# Taylorreihen\n",
    "fx = x/(x+1)\n",
    "print(fx)\n",
    "taylor_fx = fx.series(x,0,10)\n",
    "print(taylor_fx)\n",
    "\n",
    "taylor_fx = fx.series(x,0,10).removeO()\n",
    "print(taylor_fx)\n",
    "plot(fx,taylor_fx,(x,-0.9,0.9))"
   ]
  },
  {
   "cell_type": "markdown",
   "metadata": {},
   "source": [
    "symbolisch berechnen, sowie \n",
    "\n",
    "### Gleichungen, Ungleichungen und Gleichungssysteme\n",
    "Mit dem Befehl **solve** können Gleichungen, Gleichungssysteme und auch Ungleichungen gelöst werden.\n",
    "\n",
    "Dabei gibt es zwei Möglichkeiten eine Gleichung zu definieren:\n",
    "\n",
    "* Einerseits können Gleichungen immer auf Null gesetzt werden und dann sind die Lösungen der Gleichung die Nullstellen des Terms auf der einen Seite des Gleichheitszeichens. Sei die Gleichung in der Form $$T\\left(x\\right) = 0$$ gegeben, so kann die Lösung wie folgt berechnet werden: lsg = solve(T(x),x)\n",
    "\n",
    "\n",
    "* Die etwas aufwendigere (aber weitaus vielseitigere) Variante besteht darin, dass in **sympy** ein Gleichungsobjekt für die Gleichung erstellt wird. Dies erfolgt mit dem Befehl **Eq** (bzw. **Lt**, **Gt**, **Le**, **Ge** für Ungleichungen): gl = Eq(links(x),rechts(x)). \n",
    "\n",
    "Ein Gleichungssystem wird als eine Liste(eckige Klammern) von Gleichungsobjekten definiert.\n"
   ]
  },
  {
   "cell_type": "code",
   "execution_count": null,
   "metadata": {},
   "outputs": [],
   "source": [
    "gl1 = 1/(x-1)+1/(x+1)-1\n",
    "print(gl1)\n",
    "lsg1 = sym.solve(gl1)\n",
    "print(lsg1)\n",
    "\n",
    "gl2 = sym.Eq(1/(x-1)+1/(x+1),1)\n",
    "print(gl2)\n",
    "lsg2 = sym.solve(gl2,x)\n",
    "print(lsg2)\n",
    "\n",
    "gl_sys = [sym.Eq(2*x+y,4),sym.Eq(x-3*y,-5)]\n",
    "print(gl_sys)\n",
    "lsg_sys = sym.solve(gl_sys)\n",
    "print(lsg_sys)\n",
    "\n",
    "ungl = sym.Lt(1/(x+1),1)\n",
    "\n",
    "print(ungl)\n",
    "lsg_ungl = sym.solve(ungl)\n",
    "print(lsg_ungl)"
   ]
  }
 ],
 "metadata": {
  "language_info": {
   "name": "python"
  },
  "orig_nbformat": 4
 },
 "nbformat": 4,
 "nbformat_minor": 2
}
